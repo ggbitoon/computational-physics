{
 "cells": [
  {
   "cell_type": "code",
   "execution_count": 103,
   "id": "c8a6901f",
   "metadata": {},
   "outputs": [],
   "source": [
    "import numpy as np\n",
    "import matplotlib.pyplot as plt\n",
    "from scipy import integrate"
   ]
  },
  {
   "cell_type": "code",
   "execution_count": 125,
   "id": "e57419ba",
   "metadata": {},
   "outputs": [],
   "source": [
    "def weight_vectors(a, b, N):\n",
    "\n",
    "    if N % 2 == 0:\n",
    "        print('N is even.')\n",
    "    \n",
    "    else:\n",
    "        \n",
    "        h = (b - a) / (N - 1)\n",
    "        \n",
    "        w_trap_list = np.ones(N)\n",
    "        w_trap_list[0] = 1/2\n",
    "        w_trap_list[-1] = 1/2\n",
    "        \n",
    "        w_trap = h * w_trap_list\n",
    "        \n",
    "        w_simp_list = []\n",
    "        \n",
    "        for i in range(N):\n",
    "            if i % 2 == 0:\n",
    "                w_simp_list.append(2)\n",
    "            else:\n",
    "                w_simp_list.append(4)\n",
    "        \n",
    "        w_simp_list[0] = 1\n",
    "        w_simp_list[-1] = 1\n",
    "        \n",
    "        w_simp_list = np.array(w_simp_list)\n",
    "        w_simp = (h / 3) * w_simp_list\n",
    "        \n",
    "    return w_trap, w_simp"
   ]
  },
  {
   "cell_type": "code",
   "execution_count": 126,
   "id": "aee1106e",
   "metadata": {
    "scrolled": true
   },
   "outputs": [
    {
     "name": "stdout",
     "output_type": "stream",
     "text": [
      "Trapezoid weight vectors: [0.5 1.  1.  1.  1.  1.  0.5]\n",
      "Simpson weight vectors: [0.33333333 1.33333333 0.66666667 1.33333333 0.66666667 1.33333333\n",
      " 0.33333333]\n"
     ]
    }
   ],
   "source": [
    "print('Trapezoid weight vectors:', weight_vectors(0, 6, 7)[0])\n",
    "print('Simpson weight vectors:', weight_vectors(0, 6, 7)[1])"
   ]
  },
  {
   "cell_type": "code",
   "execution_count": 127,
   "id": "bc871744",
   "metadata": {},
   "outputs": [
    {
     "name": "stdout",
     "output_type": "stream",
     "text": [
      "Trapezoid weight vectors: [1.5 3.  3.  3.  3.  3.  1.5]\n",
      "Simpson weight vectors: [1. 4. 2. 4. 2. 4. 1.]\n"
     ]
    }
   ],
   "source": [
    "print('Trapezoid weight vectors:', weight_vectors(0, 18, 7)[0])\n",
    "print('Simpson weight vectors:', weight_vectors(0, 18, 7)[1])"
   ]
  },
  {
   "cell_type": "code",
   "execution_count": 229,
   "id": "b6d8c9ba",
   "metadata": {},
   "outputs": [],
   "source": [
    "def integrate_f(a, b, N):\n",
    "    \n",
    "    f = lambda x : np.exp(-x)\n",
    "    w_trap, w_simp = weight_vectors(a, b, N)\n",
    "\n",
    "    f_list = []\n",
    "    n_list = np.linspace(a, b, N)\n",
    "    \n",
    "    for i in n_list:\n",
    "        f_list.append(f(i))\n",
    "    \n",
    "    trap_result = np.dot(w_trap, np.array(f_list))\n",
    "    simp_result = np.dot(w_simp, np.array(f_list))\n",
    "    gaussian_result = integrate.quadrature(f, a, b, tol = 1e-13)\n",
    "    \n",
    "    return trap_result, simp_result, gaussian_result[0]"
   ]
  },
  {
   "cell_type": "code",
   "execution_count": 230,
   "id": "785bfbbc",
   "metadata": {},
   "outputs": [
    {
     "data": {
      "text/plain": [
       "(0.6452351901491773, 0.6323336800036626, 0.6321205588283172)"
      ]
     },
     "execution_count": 230,
     "metadata": {},
     "output_type": "execute_result"
    }
   ],
   "source": [
    "integrate_f(0, 1, 3)"
   ]
  },
  {
   "cell_type": "code",
   "execution_count": 233,
   "id": "8ed32b66",
   "metadata": {},
   "outputs": [],
   "source": [
    "def error_plot(a, b):\n",
    "    \n",
    "    n_list = range(3, 10203, 200)\n",
    "    \n",
    "    err_trap = []\n",
    "    err_simp = []\n",
    "    err_gaus = []\n",
    "    \n",
    "    exact = 1 - np.exp(-1)\n",
    "    \n",
    "    for i in n_list:\n",
    "        \n",
    "        err_trap.append(np.abs((integrate_f(a, b, i)[0] - exact) / exact))\n",
    "        err_simp.append(np.abs((integrate_f(a, b, i)[1] - exact) / exact))\n",
    "        err_gaus.append(np.abs((integrate_f(a, b, i)[2] - exact) / exact))\n",
    "    \n",
    "    plt.figure(figsize=(15,7))\n",
    "    plt.xlim([min(np.log(n_list)), max(np.log(n_list))])\n",
    "    plt.plot(np.log(n_list), np.log(err_trap), color = 'blue', label = 'Trapezoid')\n",
    "    plt.plot(np.log(n_list), np.log(err_simp), color = 'green', label = 'Simpson')\n",
    "    plt.plot(np.log(n_list), np.log(err_gaus), color = 'red', label = 'Gaussian')\n",
    "    plt.legend(loc = 'best')\n",
    "    plt.show()"
   ]
  },
  {
   "cell_type": "code",
   "execution_count": 234,
   "id": "3ba1a416",
   "metadata": {},
   "outputs": [
    {
     "name": "stderr",
     "output_type": "stream",
     "text": [
      "C:\\Users\\PC08\\AppData\\Local\\Temp\\ipykernel_11572\\3042240282.py:20: RuntimeWarning: divide by zero encountered in log\n",
      "  plt.plot(np.log(n_list), np.log(err_simp), color = 'green', label = 'Simpson')\n"
     ]
    },
    {
     "data": {
      "image/png": "[encoded data removed]",
      "text/plain": [
       "<Figure size 1080x504 with 1 Axes>"
      ]
     },
     "metadata": {
      "needs_background": "light"
     },
     "output_type": "display_data"
    }
   ],
   "source": [
    "error_plot(0, 1)"
   ]
  },
  {
   "cell_type": "code",
   "execution_count": null,
   "id": "7c8ab9f0",
   "metadata": {},
   "outputs": [],
   "source": []
  }
 ],
 "metadata": {
  "kernelspec": {
   "display_name": "Python 3 (ipykernel)",
   "language": "python",
   "name": "python3"
  },
  "language_info": {
   "codemirror_mode": {
    "name": "ipython",
    "version": 3
   },
   "file_extension": ".py",
   "mimetype": "text/x-python",
   "name": "python",
   "nbconvert_exporter": "python",
   "pygments_lexer": "ipython3",
   "version": "3.9.12"
  }
 },
 "nbformat": 4,
 "nbformat_minor": 5
}
